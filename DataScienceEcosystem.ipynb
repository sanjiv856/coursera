{
 "cells": [
  {
   "cell_type": "markdown",
   "id": "197be0fb-38b6-4067-849b-22c170043841",
   "metadata": {},
   "source": [
    "# Data Science Tools and Ecosystem"
   ]
  },
  {
   "cell_type": "markdown",
   "id": "290f6b3c-b0d2-46c6-a27c-6d136ed4ff00",
   "metadata": {},
   "source": [
    "## Author\n",
    "\n",
    "Sanjiv Kumar "
   ]
  },
  {
   "cell_type": "markdown",
   "id": "f00086f8-9aae-4f33-8969-c706fedb891c",
   "metadata": {},
   "source": [
    "In this notebook, Data Science Tools and Ecosystem are summarized."
   ]
  },
  {
   "cell_type": "markdown",
   "id": "617bcf09-cc48-48d0-a7d4-d6347d7e7c96",
   "metadata": {},
   "source": [
    "**Objectives:**\n",
    "\n",
    "List popular languages for Data Science\n",
    "\n",
    "- Python \n",
    "- R \n",
    "- Julia \n",
    "- Scala "
   ]
  },
  {
   "cell_type": "markdown",
   "id": "5ffc973f-ba7e-4248-9f2b-30feade80b80",
   "metadata": {},
   "source": [
    "Some of the popular languages that Data Scientists use are:\n",
    "\n",
    "1. Python\n",
    "2. R \n",
    "3. Julia\n",
    "4. Scala\n"
   ]
  },
  {
   "cell_type": "markdown",
   "id": "ec19ed4b-52f5-4a9a-8eae-3b45837ef182",
   "metadata": {},
   "source": [
    "Some of the commonly used libraries used by Data Scientists include:\n",
    "\n",
    "1. dplyr\n",
    "2. ggplot\n",
    "3. caret \n",
    "4. pandas\n",
    "5. numpy \n",
    "6. SciKit learn "
   ]
  },
  {
   "cell_type": "markdown",
   "id": "59583856-0196-4e25-a35f-b8b8d53e3bf0",
   "metadata": {},
   "source": [
    "|Data Science Tools|\n",
    "| --- |\n",
    "|Jupyter Notebook|\n",
    "|R Studio|\n",
    "|VS Code|"
   ]
  },
  {
   "cell_type": "markdown",
   "id": "995bb3df-f4ba-45a8-8d22-bb62c1922aa0",
   "metadata": {
    "tags": []
   },
   "source": [
    "### Below are a few examples of evaluating arithmetic expressions in Python"
   ]
  },
  {
   "cell_type": "code",
   "execution_count": 2,
   "id": "413523dd-67bd-443c-a0f5-263964b4202e",
   "metadata": {
    "tags": []
   },
   "outputs": [
    {
     "data": {
      "text/plain": [
       "17"
      ]
     },
     "execution_count": 2,
     "metadata": {},
     "output_type": "execute_result"
    }
   ],
   "source": [
    "# This a simple arithmetic expression to mutiply then add integers\n",
    "\n",
    "(3*4)+5"
   ]
  },
  {
   "cell_type": "code",
   "execution_count": 4,
   "id": "f3e50959-8fd5-4860-bed4-642789027449",
   "metadata": {
    "tags": []
   },
   "outputs": [
    {
     "data": {
      "text/plain": [
       "3.3333333333333335"
      ]
     },
     "execution_count": 4,
     "metadata": {},
     "output_type": "execute_result"
    }
   ],
   "source": [
    "# This will convert 200 minutes to hours by diving by 60\n",
    "\n",
    "200 / 60"
   ]
  },
  {
   "cell_type": "code",
   "execution_count": null,
   "id": "5552f571-3caf-4f5d-9875-ae523adc6ef2",
   "metadata": {},
   "outputs": [],
   "source": []
  }
 ],
 "metadata": {
  "kernelspec": {
   "display_name": "Python",
   "language": "python",
   "name": "conda-env-python-py"
  },
  "language_info": {
   "codemirror_mode": {
    "name": "ipython",
    "version": 3
   },
   "file_extension": ".py",
   "mimetype": "text/x-python",
   "name": "python",
   "nbconvert_exporter": "python",
   "pygments_lexer": "ipython3",
   "version": "3.7.12"
  }
 },
 "nbformat": 4,
 "nbformat_minor": 5
}
